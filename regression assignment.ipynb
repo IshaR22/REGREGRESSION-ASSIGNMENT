{
 "cells": [
  {
   "cell_type": "code",
   "execution_count": null,
   "id": "e622e490-2323-4b8e-96fa-b53b52eea457",
   "metadata": {},
   "outputs": [],
   "source": [
    "Q1. Explain the difference between simple linear regression and multiple linear regression. Provide\n",
    "an example of each."
   ]
  },
  {
   "cell_type": "code",
   "execution_count": null,
   "id": "a52997fe-b7ca-4a86-a8cf-7b2b525a48b9",
   "metadata": {},
   "outputs": [],
   "source": [
    "SIMPLE LINEAR REGRESSION\n",
    "1. Simple linear regression has one independent variable.\n",
    "2. Simple linear regression equation: h0= Q0 + Q1x1\n",
    "3. Simple linear regression is used to model the linear relationship between a single independent variable and a dependent variable.\n",
    "example price of the house on the bases of the size of the house\n",
    "the house price h0 = Q0 + Q1x1\n",
    "\n",
    "MULTIPLE LINEAR REGRESSION\n",
    "1. Multiple linear regression has two or more independent variables.\n",
    "2. Multiple linear regression equation: y = a + b1x1 + b2x2 + ... + bnxn\n",
    "3. Multiple linear regression is used to model the linear relationship between multiple independent variables and a dependent variable.\n",
    "example price of the house on the bases of the size , location , no. of rooms.\n",
    "House Price = a + b1 × House Size + b2 × Number of Bedrooms + b3 × House loacation.\n"
   ]
  },
  {
   "cell_type": "code",
   "execution_count": null,
   "id": "3084ca4e-c9d6-4856-ab29-9bae3ae2c096",
   "metadata": {},
   "outputs": [],
   "source": [
    "Q2. Discuss the assumptions of linear regression. How can you check whether these assumptions hold in\n",
    "a given dataset?"
   ]
  },
  {
   "cell_type": "code",
   "execution_count": null,
   "id": "66a70995-fb73-4743-988e-7327ead0706c",
   "metadata": {},
   "outputs": [],
   "source": [
    "The key assumptions of linear regression are:\n",
    "\n",
    "1. Linearity: The relationship between the independent variable(s) and the dependent variable should \n",
    "be linear.\n",
    "can be checked by ploting a scatter plot \n",
    "    \n",
    "2. Normality: The residuals (the differences between the observed values and the predicted values)\n",
    "should be normally distributed.\n",
    "by creating a histogram or a Q-Q plot of the residuals.\n",
    "\n",
    "3. Homoscedasticity: The variance of the residuals should be constant across all levels of the \n",
    "independent variable(s)\n",
    "check by creating a scatter plot of the residuals against the predicted values.\n",
    "\n",
    "4. Independence: The residuals should be independent of each other.\n",
    "check this by creating a scatter plot of the residuals against the order of the data.\n",
    "\n",
    "5. Multicollinearity (for multiple linear regression): The independent variables should not be \n",
    "highly correlated with each other.\n",
    "You can check this by calculating the variance inflation factor (VIF) for each independent variable.\n",
    "A VIF greater than 5 or 10 indicates a potential multicollinearity problem."
   ]
  },
  {
   "cell_type": "code",
   "execution_count": null,
   "id": "bd04852e-f18d-48bf-b145-62fd21309f7a",
   "metadata": {},
   "outputs": [],
   "source": [
    "Q3. How do you interpret the slope and intercept in a linear regression model? Provide an example using\n",
    "a real-world scenario."
   ]
  },
  {
   "cell_type": "code",
   "execution_count": null,
   "id": "c1835198-5452-415e-8813-e04ec9b7edaa",
   "metadata": {},
   "outputs": [],
   "source": [
    "slope :\n",
    "\n",
    "The slope represents the change in the dependent variable (y) for a one-unit change in the \n",
    "independent variable (x)\n",
    "A positive slope means that as the independent variable increases, the dependent variable tends to\n",
    "increase.\n",
    "A negative slope means that as the independent variable increases, the dependent variable tends to \n",
    "decrease.\n",
    "The magnitude of the slope represents the rate of change between the variables.\n",
    "\n",
    "Intercept:\n",
    "\n",
    "The intercept represents the value of the dependent variable (y) when the independent variable (x) \n",
    "is zero.\n",
    "The intercept is the point where the regression line intersects the y-axis.\n",
    "The intercept can be interpreted as the baseline or starting value of the dependent variable \n",
    "when the independent variable is not present.\n",
    "\n",
    "Suppose you want to predict the sales revenue (dependent variable) of a company based on its \n",
    "advertising expenditure (independent variable). You fit a simple linear regression model and obtain \n",
    "the following equation:\n",
    "\n",
    "Sales Revenue = 50,000 + 2,000 × Advertising Expenditure\n",
    "\n",
    "Interpretation:\n",
    "Slope (b = 2,000): For every \n",
    "2,000, holding all other factors constant.\n",
    "Intercept (a = 50,000): When the advertising expenditure is \n",
    "50,000. This represents the baseline sales revenue without any advertising.\n",
    "In this example, the slope of 2,000 indicates a strong positive relationship between advertising \n",
    "expenditure and sales revenue. The intercept of 50,000 suggests that the company has a baseline sales\n",
    "revenue of $50,000 even without any advertising.\n",
    "\n",
    "This interpretation can help the company understand the impact of advertising on their sales and\n",
    "make informed decisions about their marketing strategies and budgets."
   ]
  },
  {
   "cell_type": "code",
   "execution_count": null,
   "id": "c7774b29-4635-49fb-9386-bc4b43e2d3ee",
   "metadata": {},
   "outputs": [],
   "source": [
    "Q4. Explain the concept of gradient descent.How is it used in machine learning?"
   ]
  },
  {
   "cell_type": "code",
   "execution_count": null,
   "id": "5ce6814b-73af-46a6-b3eb-ffe88536d18c",
   "metadata": {},
   "outputs": [],
   "source": [
    "Gradient Descent:\n",
    "\n",
    "Gradient descent is an iterative optimization algorithm that starts with an initial set of parameters and iteratively updates them to minimize the loss function.\n",
    "The algorithm calculates the gradient of the loss function with respect to each parameter, which \n",
    "represents the direction of the steepest increase in the loss function.\n",
    "The parameters are then updated in the opposite direction of the gradient, proportional to the \n",
    "learning rate, to move towards the minimum of the loss function.\n",
    "Use in Machine Learning:\n",
    "\n",
    "In machine learning, gradient descent is commonly used to train models, such as linear regression, \n",
    "logistic regression, neural networks, and many others.\n",
    "The loss function in machine learning represents the difference between the predicted output and the\n",
    "true output, and the goal is to minimize this loss function.\n",
    "By applying gradient descent, the model parameters are updated iteratively to reduce the loss \n",
    "function, ultimately converging to the optimal set of parameters that best fit the training data.\n"
   ]
  },
  {
   "cell_type": "code",
   "execution_count": null,
   "id": "e31dccf1-0138-4e51-8f1e-b16b85c49924",
   "metadata": {},
   "outputs": [],
   "source": [
    "Q5. Describe the multiple linear regression model. How does it differ from simple linear regression?"
   ]
  },
  {
   "cell_type": "code",
   "execution_count": null,
   "id": "7a7562b4-85dc-406b-a97a-962b4f152ac1",
   "metadata": {},
   "outputs": [],
   "source": [
    "The multiple linear regression model is an extension of the simple linear regression model, where the dependent variable is predicted based on two or more independent variables.\n",
    "\n",
    "The multiple linear regression model can be expressed as:\n",
    "y = a + b1x1 + b2x2 + ... + bnxn\n",
    "Y is the dependent variable\n",
    "X1, X2, ..., Xk are the independent variables\n",
    "B0 is the intercept\n",
    "B1, B2, ..., Bk are the regression coefficients (slopes) for each independent variable\n",
    "\n",
    "SIMPLE LINEAR REGRESSION\n",
    "1. Simple linear regression has one independent variable.\n",
    "2. Simple linear regression equation: h0= Q0 + Q1x1\n",
    "3. Simple linear regression is used to model the linear relationship between a single independent variable and a dependent variable.\n",
    "example price of the house on the bases of the size of the house\n",
    "the house price h0 = Q0 + Q1x1\n",
    "\n",
    "MULTIPLE LINEAR REGRESSION\n",
    "1. Multiple linear regression has two or more independent variables.\n",
    "2. Multiple linear regression equation: y = a + b1x1 + b2x2 + ... + bnxn\n",
    "3. Multiple linear regression is used to model the linear relationship between multiple independent \n",
    "variables and a dependent variable.\n",
    "example price of the house on the bases of the size , location , no. of rooms.\n",
    "House Price = a + b1 × House Size + b2 × Number of Bedrooms + b3 × House loacation."
   ]
  },
  {
   "cell_type": "code",
   "execution_count": null,
   "id": "7d41ee91-19cb-46e8-be14-49dac8c53110",
   "metadata": {},
   "outputs": [],
   "source": [
    "Q6. Explain the concept of multicollinearity\n",
    "in multiple linear regression. How can you \n",
    "detect and\n",
    "address this issue?"
   ]
  },
  {
   "cell_type": "code",
   "execution_count": null,
   "id": "a85a1fa1-6ec0-4b91-b583-aea30f26818e",
   "metadata": {},
   "outputs": [],
   "source": [
    "Multicollinearity is a condition that arises in multiple linear regression when two or\n",
    "more independent variables in the model are highly correlated with each other. \n",
    "There are several ways to detect multicollinearity in a multiple linear regression model:\n",
    "1. Correlation Matrix:\n",
    "Examine the correlation coefficients between the independent variables.\n",
    "If the correlation coefficients are high (typically above 0.7 or 0.8), it indicates the presence of multicollinearity.\n",
    "\n",
    "2. Variance Inflation Factor (VIF):\n",
    "The VIF measures the degree to which the variance of a coefficient is inflated due to \n",
    "multicollinearity.\n",
    "A VIF value greater than 5 or 10 (depending on the threshold used) suggests the presence of \n",
    "multicollinearity.\n",
    "\n",
    "Addressing Multicollinearity:\n",
    "If multicollinearity is detected in a multiple linear regression model, there are several approaches\n",
    "to address the issue:\n",
    "\n",
    "1.Removing Highly Correlated Variables:\n",
    "Identify the independent variables that are highly correlated and remove one or more of them from \n",
    "the model.\n",
    "2. Centering and Scaling the Variables:\n",
    "Center the independent variables by subtracting their mean from each observation.\n",
    "3.Principal Component Regression (PCR):\n",
    "\n",
    "PCR involves transforming the original independent variables into a set of uncorrelated principal\n",
    "components.\n"
   ]
  },
  {
   "cell_type": "code",
   "execution_count": null,
   "id": "971edee7-8349-4ac9-af4d-040ca70937f2",
   "metadata": {},
   "outputs": [],
   "source": [
    "Q7. Describe the polynomial regression model. How is it different from linear regression?"
   ]
  },
  {
   "cell_type": "code",
   "execution_count": null,
   "id": "b3a612fc-a901-41d3-bbd6-6411e39d2f7d",
   "metadata": {},
   "outputs": [],
   "source": [
    "The polynomial regression model is an extension of the linear regression model, where the relationship between the independent variable(s) and the dependent variable is modeled using a polynomial function. In a polynomial regression model, the independent variable(s) are raised to higher powers, allowing the model to capture non-linear relationships.\n",
    "\n",
    "The general form of a polynomial regression model with a single independent variable (X) can be expressed as:\n",
    "\n",
    "Y = B0 + B1X + B2X^2 + ... + BnX^n + ERROR\n",
    "WHERE:\n",
    "Y is the dependent variable\n",
    "X is the independent variable\n",
    "B0, B1, B2, ..., Bn are the regression coefficients\n",
    "\n",
    "1.Linear regression assumes a linear relationship between the independent variable(s) and the dependent variable.\n",
    "2.Linerar  regression is less flexible \n",
    "3.In linear regression, the model complexity is determined by the number of independent variables.\n",
    "\n",
    "\n",
    "1.Polynomial regression can capture non-linear relationships by including higher-order terms (e.g., X^2, X^3) in the model.\n",
    "2.Polynomial regression is more flexible than linear regression, as it can fit a wider range of functional forms, including quadratic, cubic, and higher-order polynomial relationships.\n",
    "3. In polynomial regression, the model complexity is determined by the highest power of the independent variable included in the model, which needs to be carefully selected to avoid overfitting.\n",
    "\n"
   ]
  },
  {
   "cell_type": "code",
   "execution_count": null,
   "id": "1b5199ca-f37d-43ad-8274-6fd1fd560a4f",
   "metadata": {},
   "outputs": [],
   "source": [
    "Q8. What are the advantages and disadvantages of polynomial regression compared to linear\n",
    "regression? In what situations would you prefer to use polynomial regression?"
   ]
  },
  {
   "cell_type": "code",
   "execution_count": null,
   "id": "bced4fde-0c6e-4211-8e74-7b4885462f1e",
   "metadata": {},
   "outputs": [],
   "source": [
    "Advantages of Polynomial Regression:\n",
    "\n",
    "1. Flexibility: Polynomial regression can model a wider range of non-linear relationships between \n",
    "the independent variable(s) and the dependent variable, making it more flexible than linear \n",
    "regression.\n",
    "2. Improved Fit: Polynomial regression can often provide a better fit to the data, especially when \n",
    "the underlying relationship is non-linear. This can lead to improved predictive accuracy.\n",
    "\n",
    "3. Capturing Complex Patterns: Polynomial regression can capture more complex patterns in the data,\n",
    "such as quadratic, cubic, or higher-order relationships, which linear regression may not be able to \n",
    "model effectively.\n",
    "\n",
    "Disadvantages of Polynomial Regression:\n",
    "\n",
    "1. Overfitting: Polynomial regression models can be prone to overfitting, especially when the degree\n",
    "of the polynomial is too high. This can lead to poor generalization to new, unseen data.\n",
    "2. Interpretability: The interpretation of the regression coefficients in polynomial regression is\n",
    "more complex compared to linear regression, as each coefficient represents the change in the \n",
    "dependent variable for a one-unit change in the corresponding power of the independent variable.\n",
    "3. Multicollinearity: When the independent variables are highly correlated, the higher-order terms \n",
    "in the polynomial regression model can lead to multicollinearity, which can negatively impact the \n",
    "stability and reliability of the model.\n",
    "\n",
    "Situations to Prefer Polynomial Regression:\n",
    "\n",
    "1. Non-linear Relationships: When the relationship between the independent variables and the \n",
    "dependent variable is known or suspected to be non-linear, polynomial regression can be a better \n",
    "choice than linear regression.\n",
    "\n",
    "2. Exploratory Data Analysis: Polynomial regression can be useful in the EDA stage, as it can help\n",
    "identify the presence and nature of non-linear relationships in the data.\n",
    "\n",
    "Improved Predictive Accuracy: If the goal is to maximize the predictive accuracy of the model, \n",
    "and the data exhibits non-linear patterns, polynomial regression may outperform linear regression.\n"
   ]
  }
 ],
 "metadata": {
  "kernelspec": {
   "display_name": "Python 3 (ipykernel)",
   "language": "python",
   "name": "python3"
  },
  "language_info": {
   "codemirror_mode": {
    "name": "ipython",
    "version": 3
   },
   "file_extension": ".py",
   "mimetype": "text/x-python",
   "name": "python",
   "nbconvert_exporter": "python",
   "pygments_lexer": "ipython3",
   "version": "3.10.8"
  }
 },
 "nbformat": 4,
 "nbformat_minor": 5
}
